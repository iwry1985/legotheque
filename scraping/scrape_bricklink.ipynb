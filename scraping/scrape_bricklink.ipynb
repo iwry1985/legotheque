{
 "cells": [
  {
   "cell_type": "code",
   "execution_count": 2,
   "id": "fdd6372f",
   "metadata": {},
   "outputs": [],
   "source": [
    "import pandas as pd\n",
    "import requests\n",
    "from bs4 import BeautifulSoup"
   ]
  },
  {
   "cell_type": "code",
   "execution_count": null,
   "id": "42dca9b8",
   "metadata": {},
   "outputs": [
    {
     "data": {
      "text/plain": [
       "'https://www.bricklink.com/catalogPG.asp?.S=76967'"
      ]
     },
     "execution_count": 3,
     "metadata": {},
     "output_type": "execute_result"
    }
   ],
   "source": [
    "set_id = 76968-1\n",
    "url = f\"https://www.bricklink.com/catalogPG.asp?.S={set_id}\"\n"
   ]
  },
  {
   "cell_type": "code",
   "execution_count": null,
   "id": "ef5fe372",
   "metadata": {},
   "outputs": [
    {
     "name": "stdout",
     "output_type": "stream",
     "text": [
      "failed :( 403\n"
     ]
    },
    {
     "data": {
      "text/plain": [
       "<Response [403]>"
      ]
     },
     "execution_count": 4,
     "metadata": {},
     "output_type": "execute_result"
    }
   ],
   "source": [
    "headers = {\n",
    "    \"User-Agent\": \"Mozilla/5.0 (Windows NT 10.0; Win64; x64) \"\n",
    "                  \"AppleWebKit/537.36 (KHTML, like Gecko) \"\n",
    "                  \"Chrome/141.0.0.0 Safari/537.36\"\n",
    "}\n",
    "\n",
    "response = requests.get(url, headers=headers)\n",
    "\n",
    "if(response.status_code == 200):\n",
    "    print('success !')\n",
    "else:\n",
    "    print('failed :(', response.status_code)\n",
    "    \n",
    "response"
   ]
  }
 ],
 "metadata": {
  "kernelspec": {
   "display_name": "flask_demo",
   "language": "python",
   "name": "python3"
  },
  "language_info": {
   "codemirror_mode": {
    "name": "ipython",
    "version": 3
   },
   "file_extension": ".py",
   "mimetype": "text/x-python",
   "name": "python",
   "nbconvert_exporter": "python",
   "pygments_lexer": "ipython3",
   "version": "3.11.13"
  }
 },
 "nbformat": 4,
 "nbformat_minor": 5
}
